{
  "nbformat": 4,
  "nbformat_minor": 0,
  "metadata": {
    "colab": {
      "provenance": [],
      "mount_file_id": "1FFjoOyItxk7CogJaG1iGiNxhww-c-qc7",
      "authorship_tag": "ABX9TyNIKdt57ZYjxQ07I7ygVXl4",
      "include_colab_link": true
    },
    "kernelspec": {
      "name": "python3",
      "display_name": "Python 3"
    },
    "language_info": {
      "name": "python"
    }
  },
  "cells": [
    {
      "cell_type": "markdown",
      "metadata": {
        "id": "view-in-github",
        "colab_type": "text"
      },
      "source": [
        "<a href=\"https://colab.research.google.com/github/duonghiepit/logistic-regression/blob/main/1_LogReg_SGD.ipynb\" target=\"_parent\"><img src=\"https://colab.research.google.com/assets/colab-badge.svg\" alt=\"Open In Colab\"/></a>"
      ]
    },
    {
      "cell_type": "code",
      "source": [
        "%cd /content/drive/MyDrive/AIO2023/231006/code - update_1"
      ],
      "metadata": {
        "colab": {
          "base_uri": "https://localhost:8080/"
        },
        "id": "G0TNv4ZfWg7e",
        "outputId": "b1f977b5-4888-4471-8ef4-50e1dfb008e9"
      },
      "execution_count": 2,
      "outputs": [
        {
          "output_type": "stream",
          "name": "stdout",
          "text": [
            "/content/drive/MyDrive/AIO2023/231006/code - update_1\n"
          ]
        }
      ]
    },
    {
      "cell_type": "code",
      "execution_count": 5,
      "metadata": {
        "id": "fOEpwzpWVHFb"
      },
      "outputs": [],
      "source": [
        "import numpy as np\n",
        "import matplotlib.pyplot as plt\n",
        "\n",
        "iris = np.genfromtxt('iris_full.csv',\n",
        "                     dtype=None,\n",
        "                     delimiter=',',\n",
        "                     skip_header=1)\n",
        "X = iris[:, :4]\n",
        "y = iris[:, 4]\n",
        "\n",
        "N = X.shape[0]\n",
        "# Thay đổi vị trí các sample ngẫu nghiên\n",
        "indices = np.random.permutation(N)\n",
        "X = X[indices]\n",
        "y = y[indices]"
      ]
    },
    {
      "cell_type": "code",
      "source": [
        "intercept = np.ones((N, 1))\n",
        "X_b = np.c_[intercept, X]"
      ],
      "metadata": {
        "id": "ACklPtudWeLy"
      },
      "execution_count": 6,
      "outputs": []
    },
    {
      "cell_type": "code",
      "source": [
        "print('X_b', X_b.shape)\n",
        "print('y', y.shape)\n",
        "print('N', N)"
      ],
      "metadata": {
        "colab": {
          "base_uri": "https://localhost:8080/"
        },
        "id": "c6be4U8vW_Mm",
        "outputId": "88fcf61f-a821-4a31-ef25-71b505b13aba"
      },
      "execution_count": 7,
      "outputs": [
        {
          "output_type": "stream",
          "name": "stdout",
          "text": [
            "X_b (100, 5)\n",
            "y (100,)\n",
            "N 100\n"
          ]
        }
      ]
    },
    {
      "cell_type": "code",
      "source": [
        "def sigmoid_function(z):\n",
        "    return 1 / (1 + np.exp(-z))\n",
        "\n",
        "def predict(x, theta):\n",
        "    z = np.dot(x, theta)\n",
        "\n",
        "    return sigmoid_function(z)\n",
        "\n",
        "def compute_loss(y_hat, y):\n",
        "    return -y*np.log(y_hat) - (1-y)*np.log(1 - y_hat)"
      ],
      "metadata": {
        "id": "lTfCaP6LXLup"
      },
      "execution_count": 23,
      "outputs": []
    },
    {
      "cell_type": "code",
      "source": [
        "lr = 0.01\n",
        "num_iter = 100\n",
        "\n",
        "theta = np.array([0.1, 0.3, 0.1, 0.2, -0.1])\n",
        "\n",
        "losses = []\n",
        "preds = []\n",
        "accuracies = []\n",
        "\n",
        "for epoch in range(num_iter):\n",
        "    for i in range(N):\n",
        "        xi = X_b[i:i+1]\n",
        "        yi = y[i:i+1]\n",
        "\n",
        "        # compute output\n",
        "        y_hat = predict(xi, theta)\n",
        "\n",
        "        # compute loss\n",
        "        loss = compute_loss(y_hat, y)\n",
        "        losses.append(loss)\n",
        "\n",
        "        # compute mean of gradient\n",
        "        gradient = np.dot(xi.T, (y_hat - yi))\n",
        "\n",
        "        # update\n",
        "        theta = theta - lr*gradient"
      ],
      "metadata": {
        "id": "fIuEqaQjY8sK"
      },
      "execution_count": 41,
      "outputs": []
    },
    {
      "cell_type": "code",
      "source": [
        "losses[0].shape"
      ],
      "metadata": {
        "colab": {
          "base_uri": "https://localhost:8080/"
        },
        "id": "PUcxWjEXevmE",
        "outputId": "02cf014e-eede-4375-b5b6-e1c070873962"
      },
      "execution_count": 42,
      "outputs": [
        {
          "output_type": "execute_result",
          "data": {
            "text/plain": [
              "(100,)"
            ]
          },
          "metadata": {},
          "execution_count": 42
        }
      ]
    },
    {
      "cell_type": "code",
      "source": [
        "theta"
      ],
      "metadata": {
        "colab": {
          "base_uri": "https://localhost:8080/"
        },
        "id": "01VX3AFMe6os",
        "outputId": "d05ee435-101f-45b5-9cf3-c0b18b3db699"
      },
      "execution_count": 43,
      "outputs": [
        {
          "output_type": "execute_result",
          "data": {
            "text/plain": [
              "array([-0.3050887 , -0.53680599, -2.04277982,  3.1084402 ,  1.21482173])"
            ]
          },
          "metadata": {},
          "execution_count": 43
        }
      ]
    },
    {
      "cell_type": "code",
      "source": [
        "import matplotlib.pyplot as plt\n",
        "\n",
        "plt.plot(losses)\n",
        "plt.show()"
      ],
      "metadata": {
        "colab": {
          "base_uri": "https://localhost:8080/",
          "height": 430
        },
        "id": "AQsAAOoUcRTB",
        "outputId": "c3b14f78-9298-4ed1-fcd6-6e43fc00b98d"
      },
      "execution_count": 44,
      "outputs": [
        {
          "output_type": "display_data",
          "data": {
            "text/plain": [
              "<Figure size 640x480 with 1 Axes>"
            ],
            "image/png": "[encoded data removed]"
          },
          "metadata": {}
        }
      ]
    },
    {
      "cell_type": "code",
      "source": [
        "# compute accuracy\n",
        "preds = []\n",
        "for i in range(N):\n",
        "    xi = X_b[i:i+1]\n",
        "    yi = y[i: i+1]\n",
        "\n",
        "    y_hat = predict(xi, theta).round()\n",
        "    preds.append(y_hat[0])"
      ],
      "metadata": {
        "id": "FNnCd_01cXCs"
      },
      "execution_count": 53,
      "outputs": []
    },
    {
      "cell_type": "code",
      "source": [
        "acc = (preds == y).mean()\n",
        "print(acc)"
      ],
      "metadata": {
        "colab": {
          "base_uri": "https://localhost:8080/"
        },
        "id": "Dxx-I2WWd4Gk",
        "outputId": "0ce97a5a-62d2-4997-9981-371faf72e76c"
      },
      "execution_count": 55,
      "outputs": [
        {
          "output_type": "stream",
          "name": "stdout",
          "text": [
            "1.0\n"
          ]
        }
      ]
    },
    {
      "cell_type": "code",
      "source": [],
      "metadata": {
        "id": "y2OgRgJyd-fX"
      },
      "execution_count": null,
      "outputs": []
    }
  ]
}